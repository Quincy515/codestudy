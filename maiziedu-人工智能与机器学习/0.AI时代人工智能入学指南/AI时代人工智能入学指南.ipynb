{
 "cells": [
  {
   "cell_type": "markdown",
   "metadata": {},
   "source": [
    "* 为什么Python这么火？\n",
    "* 从哪里开始，学什么？有什么用？\n",
    "* 算法该如何学？数学怎么办？\n",
    "* 如何实际动手去做？用什么工具？\n",
    "\n",
    "机器学习本质包含了 **数学原理推导** 与 **实际应用技巧** （库的使用，完整项目如何构建，从头到尾的流程）\n",
    "\n",
    "机器学习中有很多经典算法，既然要学习，那就需要清楚一个算法是怎么推导来的以及如何应用\n",
    "\n",
    "数学非常重要\n",
    "\n",
    "深度学习是机器学习中神经网络算法的延伸，在计算机视觉和自然语言处理中更厉害\n",
    "\n",
    "算法推导如何开始？\n",
    "\n",
    "找本书？找博客？找视频？都可以，选择喜欢的适合的就可以\n",
    "\n",
    "如果一个地方死活看不懂怎么办？ 有个圈子来交流当然更好，也可以继续前进，等回头再看，没准就想通了\n",
    "\n",
    "习惯很重要，动手从头做笔记写博客，只有自己能写出来才是真正掌握了\n",
    "\n",
    "机器学习怎么动手去做？\n",
    "\n",
    "* 只有实际应用，GitHub、Kaggle\n",
    "* 案例的积累作用很大，其实我们干活时什么样的呢？主要就是在模仿，我们并不是科学家，能做事才能有用，既然人家是这么做的，并且做的不错，我们去模仿做出来的就是我们自己的\n",
    "* 很少从头开始写一个项目，通常都是按照之前的某种套路照搬过来，实际上大部分公司都这么做，建议大家先学会模仿，再去创作！！\n"
   ]
  },
  {
   "cell_type": "code",
   "execution_count": null,
   "metadata": {
    "collapsed": true
   },
   "outputs": [],
   "source": []
  }
 ],
 "metadata": {
  "kernelspec": {
   "display_name": "Python 3",
   "language": "python",
   "name": "python3"
  },
  "language_info": {
   "codemirror_mode": {
    "name": "ipython",
    "version": 3
   },
   "file_extension": ".py",
   "mimetype": "text/x-python",
   "name": "python",
   "nbconvert_exporter": "python",
   "pygments_lexer": "ipython3",
   "version": "3.6.1"
  }
 },
 "nbformat": 4,
 "nbformat_minor": 2
}
