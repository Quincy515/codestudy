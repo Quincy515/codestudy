{
 "cells": [
  {
   "cell_type": "markdown",
   "metadata": {},
   "source": [
    "## 在数组[1, 2, 3, 4, 5]中相邻两个数字中间插入两个0"
   ]
  },
  {
   "cell_type": "code",
   "execution_count": 5,
   "metadata": {},
   "outputs": [
    {
     "name": "stdout",
     "output_type": "stream",
     "text": [
      "[ 1.  0.  0.  2.  0.  0.  3.  0.  0.  4.  0.  0.  5.]\n"
     ]
    }
   ],
   "source": [
    "import numpy as np\n",
    "Z = np.array([1,2,3,4,5])  \n",
    "nz = 2  \n",
    "Z0 = np.zeros(len(Z) + (len(Z)-1)*(nz))  \n",
    "Z0[::nz+1] = Z  \n",
    "print (Z0)"
   ]
  },
  {
   "cell_type": "code",
   "execution_count": null,
   "metadata": {
    "collapsed": true
   },
   "outputs": [],
   "source": []
  }
 ],
 "metadata": {
  "kernelspec": {
   "display_name": "Python 3",
   "language": "python",
   "name": "python3"
  },
  "language_info": {
   "codemirror_mode": {
    "name": "ipython",
    "version": 3
   },
   "file_extension": ".py",
   "mimetype": "text/x-python",
   "name": "python",
   "nbconvert_exporter": "python",
   "pygments_lexer": "ipython3",
   "version": "3.6.1"
  }
 },
 "nbformat": 4,
 "nbformat_minor": 2
}
