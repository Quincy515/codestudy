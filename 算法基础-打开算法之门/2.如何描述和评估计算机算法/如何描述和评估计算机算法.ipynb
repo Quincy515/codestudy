{
 "cells": [
  {
   "cell_type": "markdown",
   "metadata": {},
   "source": [
    "# 如何描述和评估计算机算法\n",
    "\n",
    "如何表示计算机算法的运行时间：\n",
    "\n",
    "> 将运行时间表示为一个运行输入规模的函数，并重点关注运行时间的增长数量级\n",
    "\n",
    "\n",
    "## 1.如何描述计算机算法\n",
    "\n",
    "将计算机算法描述成一个可执行程序可以有多种选择：\n",
    "\n",
    "* C/C++/Java/Python/...\n",
    "\n",
    "> 使用实际的编程语言来表示算法所带来的问题是可能会在语言细节上越陷越深，而对算法本身的认识反而模糊不清\n",
    "\n",
    "* 伪代码\n",
    "\n",
    "* 通用文字来描述算法，尽可能地使用现实世界中的情景来模拟算法\n",
    "\n",
    "泛化的计算问题：\n",
    "\n",
    "> 即给定一个具有n个元素的数组A，我们想要查找数组A中是否存在一个值x。\n",
    "\n",
    "> 如果存在，我们想要确定满足 A[ i ] = x 的索引 i 的值，否则用一些方法来表明数组A中不存在x\n",
    "\n",
    "**线性查找 LINERA_SEARCH** - 从数组的开始端开始查找，依次检查每个数组元素(A[1], A[2], A[3], ..., A[n]),若找到x，则记录下x所在的位置\n",
    "\n",
    "---\n",
    "**程序 LINEAR_SEARCH(A, n, x)**\n",
    "\n",
    "**输入**：\n",
    "\n",
    "* A: 一个数组；\n",
    "* n: 要查找的数组 A 中的元素个数；\n",
    "* x: 要查找的值\n",
    "\n",
    "**输出**：\n",
    "\n",
    "要么是满足 A[i] = x 的索引 i，要么是一个特殊值NOT-FOUND(可取相对于数组A的任何无效索引值，例如0或者任意负整数)\n",
    "\n",
    "1. 将answer 赋值为 NOT_FOUND\n",
    "2. 对每个索引值 i，按顺序从 1 取到 n:\n",
    "\n",
    "    A. 如果 A[i] = x,那么将 answer 赋值为 1\n",
    "3. 返回 answer 的值作为输出\n",
    "---"
   ]
  },
  {
   "cell_type": "code",
   "execution_count": 5,
   "metadata": {},
   "outputs": [
    {
     "data": {
      "text/plain": [
       "19271946"
      ]
     },
     "execution_count": 5,
     "metadata": {},
     "output_type": "execute_result"
    }
   ],
   "source": [
    "def liner_search(array, x):\n",
    "    answer = -1\n",
    "    n = len(array)\n",
    "    for i in range(0, n):\n",
    "        if array[i] == x:\n",
    "            answer = i\n",
    "    \n",
    "    return answer\n",
    "\n",
    "squery_array = [x*x for x in range(20000000)]\n",
    "x = 19271946**2\n",
    "\n",
    "import cProfile\n",
    "cProfile.run(\"liner_search(squery_array, x)\")\n",
    "# liner_search(squery_array, x)"
   ]
  },
  {
   "cell_type": "code",
   "execution_count": 8,
   "metadata": {},
   "outputs": [
    {
     "name": "stdout",
     "output_type": "stream",
     "text": [
      "[9, 5, -1, 8, 6, 7, -3, 1, -2, -2, 7, 9, 8, -2, 0, -6, 0, 6, 5, -7]\n"
     ]
    }
   ],
   "source": [
    "from random import randint\n",
    "\n",
    "data = [randint(-10, 10) for _ in range(20)]\n",
    "print(data)"
   ]
  },
  {
   "cell_type": "code",
   "execution_count": 11,
   "metadata": {},
   "outputs": [
    {
     "data": {
      "text/plain": [
       "13"
      ]
     },
     "execution_count": 11,
     "metadata": {},
     "output_type": "execute_result"
    }
   ],
   "source": [
    "liner_search(data, -2)"
   ]
  },
  {
   "cell_type": "markdown",
   "metadata": {},
   "source": [
    "可以很清楚的发现 LINEAR_SEARCH 程序总能返回一个正确的结果，没有找到就返回 -1，\n",
    "\n",
    "但是找到了一个令 A[i] = x 成立的索引 i,它还会继续查找下去。\n",
    "\n",
    "我们希望一旦在数组中找到 x,它便会停止查找。\n",
    "\n",
    "---\n",
    "**程序 BETTER_LINEAR_SEARCH(A, n, x)**\n",
    "\n",
    "**输入、输出**: 与 LINEAR_SEARCH 的输入、输出相同。\n",
    "\n",
    "1. 令索引 i 初始值为1，按序依次被赋值为 1 到 n;\n",
    "\n",
    "    A. 如果 A[i] = x,那么返回当前的 i 值作为输出。\n",
    "2. 返回 NOT-FOUND 作为输出。\n",
    "---"
   ]
  },
  {
   "cell_type": "code",
   "execution_count": 13,
   "metadata": {},
   "outputs": [
    {
     "data": {
      "text/plain": [
       "8"
      ]
     },
     "execution_count": 13,
     "metadata": {},
     "output_type": "execute_result"
    }
   ],
   "source": [
    "def better_linear_search(array, x):\n",
    "    n = len(array)\n",
    "    for i in range(0, n):\n",
    "        if array[i] == x:\n",
    "            return i\n",
    "    return -1\n",
    "\n",
    "better_linear_search(data, -2)"
   ]
  },
  {
   "cell_type": "code",
   "execution_count": null,
   "metadata": {
    "collapsed": true
   },
   "outputs": [],
   "source": []
  }
 ],
 "metadata": {
  "kernelspec": {
   "display_name": "Python 3",
   "language": "python",
   "name": "python3"
  },
  "language_info": {
   "codemirror_mode": {
    "name": "ipython",
    "version": 3
   },
   "file_extension": ".py",
   "mimetype": "text/x-python",
   "name": "python",
   "nbconvert_exporter": "python",
   "pygments_lexer": "ipython3",
   "version": "3.6.1"
  }
 },
 "nbformat": 4,
 "nbformat_minor": 2
}
