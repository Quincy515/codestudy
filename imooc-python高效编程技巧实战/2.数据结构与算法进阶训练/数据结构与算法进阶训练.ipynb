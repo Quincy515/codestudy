{
 "cells": [
  {
   "cell_type": "markdown",
   "metadata": {
    "collapsed": true
   },
   "source": [
    "## 1.如何在列表、字典、集合中根据条件筛选数据\n",
    "\n",
    "### 实际案例：\n",
    "    \n",
    "    过滤掉列表[3, 9, -1, 10, 20, -2, ...]中的负数\n",
    "    \n",
    "    筛选字典{'LiLei': 79, 'Jim': 88, 'Lucy': 92, ...}中值高于90的项\n",
    "    \n",
    "    筛选集合{77, 89, 32, 20, ...}中能被3整除的元素"
   ]
  },
  {
   "cell_type": "code",
   "execution_count": 2,
   "metadata": {},
   "outputs": [
    {
     "name": "stdout",
     "output_type": "stream",
     "text": [
      "[1, 5, 6, 0, 9]\n"
     ]
    }
   ],
   "source": [
    "data = [1, 5, -3, -2, 6, 0, 9]\n",
    "\n",
    "res = []\n",
    "\n",
    "for x in data:\n",
    "    if x>= 0:\n",
    "        res.append(x)\n",
    "\n",
    "print (res)"
   ]
  },
  {
   "cell_type": "markdown",
   "metadata": {},
   "source": [
    "### 解决方案\n",
    "\n",
    "#### 列表\n",
    "\n",
    "    filter 函数  filter(lambda x: x >= 0, data)\n",
    "    \n",
    "    列表解析      [x for x in data if x >= 0]\n",
    "#### 字典\n",
    "\n",
    "    字典解析      {k: v for k, v in d.iteritems() if v > 90}\n",
    "#### 集合\n",
    "    \n",
    "    集合解析      {x for x in s if x % 3 == 0}"
   ]
  },
  {
   "cell_type": "code",
   "execution_count": 44,
   "metadata": {},
   "outputs": [
    {
     "name": "stdout",
     "output_type": "stream",
     "text": [
      "[-2, -1, 0, 8, 7, 2, -2, -9, 4, 2]\n"
     ]
    }
   ],
   "source": [
    "# 生成随机列表，使用列表解析\n",
    "from random import randint\n",
    "\n",
    "data = [randint(-10, 10) for _ in range(10)]\n",
    "fdata = data # 用作 filter函数\n",
    "tdata = data\n",
    "ttdata = data\n",
    "ldata = data # 用作 list 列表解析\n",
    "print(tdata)"
   ]
  },
  {
   "cell_type": "code",
   "execution_count": 45,
   "metadata": {},
   "outputs": [
    {
     "name": "stdout",
     "output_type": "stream",
     "text": [
      "Help on class filter in module builtins:\n",
      "\n",
      "class filter(object)\n",
      " |  filter(function or None, iterable) --> filter object\n",
      " |  \n",
      " |  Return an iterator yielding those items of iterable for which function(item)\n",
      " |  is true. If function is None, return the items that are true.\n",
      " |  \n",
      " |  Methods defined here:\n",
      " |  \n",
      " |  __getattribute__(self, name, /)\n",
      " |      Return getattr(self, name).\n",
      " |  \n",
      " |  __iter__(self, /)\n",
      " |      Implement iter(self).\n",
      " |  \n",
      " |  __new__(*args, **kwargs) from builtins.type\n",
      " |      Create and return a new object.  See help(type) for accurate signature.\n",
      " |  \n",
      " |  __next__(self, /)\n",
      " |      Implement next(self).\n",
      " |  \n",
      " |  __reduce__(...)\n",
      " |      Return state information for pickling.\n",
      "\n"
     ]
    }
   ],
   "source": [
    "help(filter)"
   ]
  },
  {
   "cell_type": "code",
   "execution_count": 46,
   "metadata": {},
   "outputs": [
    {
     "name": "stdout",
     "output_type": "stream",
     "text": [
      "[0, 8, 7, 2, 4, 2]\n"
     ]
    }
   ],
   "source": [
    "# python3 起，filter 函数返回的对象从列表改为 filter object（迭代器）\n",
    "fdata = filter(lambda x: x >= 0, fdata)\n",
    "filter_list = [item for item in fdata]\n",
    "print(filter_list)"
   ]
  },
  {
   "cell_type": "code",
   "execution_count": 55,
   "metadata": {},
   "outputs": [
    {
     "data": {
      "text/plain": [
       "[0, 8, 7, 2, 4, 2]"
      ]
     },
     "execution_count": 55,
     "metadata": {},
     "output_type": "execute_result"
    }
   ],
   "source": [
    "# 列表解析\n",
    "[x for x in ldata if x >= 0]"
   ]
  },
  {
   "cell_type": "code",
   "execution_count": 57,
   "metadata": {},
   "outputs": [
    {
     "data": {
      "text/plain": [
       "6.80049997754395e-05"
      ]
     },
     "execution_count": 57,
     "metadata": {},
     "output_type": "execute_result"
    }
   ],
   "source": [
    "# 查看运行时间\n",
    "import timeit \n",
    "s1=timeit.default_timer()\n",
    "# filter(lambda x: x >= 0, fdata)\n",
    "[x for x in ldata if x >= 0]\n",
    "d1=timeit.default_timer()        \n",
    "d1-s1"
   ]
  },
  {
   "cell_type": "markdown",
   "metadata": {},
   "source": [
    "筛选字典{'LiLei': 79, 'Jim': 88, 'Lucy': 92, ...}中值高于90的项"
   ]
  },
  {
   "cell_type": "code",
   "execution_count": 63,
   "metadata": {},
   "outputs": [
    {
     "name": "stdout",
     "output_type": "stream",
     "text": [
      "{1: 81, 2: 73, 3: 73, 4: 68, 5: 78, 6: 77, 7: 87, 8: 100, 9: 96, 10: 66, 11: 81, 12: 62, 13: 99, 14: 76, 15: 70, 16: 83, 17: 60, 18: 61, 19: 91, 20: 75}\n"
     ]
    }
   ],
   "source": [
    "d = {x: randint(60, 100) for x in range(1, 21)}\n",
    "print (d)"
   ]
  },
  {
   "cell_type": "code",
   "execution_count": 64,
   "metadata": {},
   "outputs": [
    {
     "data": {
      "text/plain": [
       "{8: 100, 9: 96, 13: 99, 19: 91}"
      ]
     },
     "execution_count": 64,
     "metadata": {},
     "output_type": "execute_result"
    }
   ],
   "source": [
    "# 在3.x 里 用 items()替换iteritems() ，可以用于 for 来循环遍历。\n",
    "{k: v for k, v in d.items() if v > 90}"
   ]
  },
  {
   "cell_type": "markdown",
   "metadata": {},
   "source": [
    "筛选集合{77, 89, 32, 20, ...}中能被3整除的元素"
   ]
  },
  {
   "cell_type": "code",
   "execution_count": 68,
   "metadata": {},
   "outputs": [
    {
     "name": "stdout",
     "output_type": "stream",
     "text": [
      "[-2, -1, 0, 8, 7, 2, -2, -9, 4, 2]\n",
      "{0, 2, 4, 7, 8, -1, -9, -2}\n"
     ]
    }
   ],
   "source": [
    "print (data)\n",
    "s = set(data)\n",
    "print (s)"
   ]
  },
  {
   "cell_type": "code",
   "execution_count": 69,
   "metadata": {},
   "outputs": [
    {
     "data": {
      "text/plain": [
       "{-9, 0}"
      ]
     },
     "execution_count": 69,
     "metadata": {},
     "output_type": "execute_result"
    }
   ],
   "source": [
    "{x for x in s if x % 3 == 0}"
   ]
  },
  {
   "cell_type": "markdown",
   "metadata": {},
   "source": [
    "## 2.如何为元组中的每个元素命名，提高程序可读性\n",
    "### 实际案例\n",
    "\n",
    "学生信息系统中数据为固定格式：\n",
    "\n",
    "(名字，年龄，性别，邮件地址， ...)\n",
    "\n",
    "学生数量很大为了减小存储开销，对每个学生信息用元组表示：\n",
    "\n",
    "('Jim', 16, 'male', 'jim8721@gmail.com')\n",
    "\n",
    "('LiLei', 17, 'male', 'lilei@qq.com')\n",
    "\n",
    "('Lucy', 16, 'female', 'lucy123@yahoo.com')\n",
    "\n",
    "...\n",
    "\n",
    "\n",
    "\n",
    "访问时，我们使用索引(index)访问，大量索引降低程序可读性。\n",
    "\n",
    "如何解决这个问题？\n",
    "\n",
    "### 解决方案\n",
    "\n",
    "方案1: 定义类似于其他语言的枚举类型，也就是定义一系列数值常量\n",
    "\n",
    "方案2: 使用标准库中 collections.namedtuple 替代内置 tuple"
   ]
  },
  {
   "cell_type": "code",
   "execution_count": 87,
   "metadata": {},
   "outputs": [
    {
     "name": "stdout",
     "output_type": "stream",
     "text": [
      "Jim\n"
     ]
    }
   ],
   "source": [
    "# ('Jim', 16, 'male', 'jim8721@gmail.com')\n",
    "# ('LiLei', 17, 'male', 'lilei@qq.com')\n",
    "# ('Lucy', 16, 'female', 'lucy123@yahoo.com')\n",
    "\n",
    "# NAME = 0\n",
    "# AGE = 1\n",
    "# SEX = 2\n",
    "# EMAIL = 3\n",
    "NAME, AGE, SEX, EMAIL = range(4)\n",
    "student = ('Jim', 16, 'male', 'jim8721@gmail.com')\n",
    "\n",
    "# name\n",
    "print(student[NAME])\n",
    "\n",
    "# age\n",
    "if student[AGE] >= 18:\n",
    "    pass\n",
    "    # ...\n",
    "\n",
    "# sex\n",
    "if student[SEX] == 'male':\n",
    "    pass\n",
    "#     ..."
   ]
  },
  {
   "cell_type": "markdown",
   "metadata": {
    "collapsed": true
   },
   "source": [
    "```\n",
    "// c语言中使用宏定义 0，1，2 变成 name age sex\n",
    "// c语言预处理当中做字符串的替换\n",
    "#define NAME 0\n",
    "#define AGE 1\n",
    "#define SEX 2\n",
    "\n",
    "// 第二种方式使用枚举\n",
    "enum Student {\n",
    "    NAME,\n",
    "    AGE,\n",
    "    SEX,\n",
    "}\n",
    "```"
   ]
  },
  {
   "cell_type": "code",
   "execution_count": 93,
   "metadata": {},
   "outputs": [
    {
     "name": "stdout",
     "output_type": "stream",
     "text": [
      "Student(name='Jim', age=16, sex='male', email='jim8721@gmail.com')\n",
      "Student(name='Jim2', age=16, sex='male', email='jim8721@gmail.com')\n",
      "Jim\n"
     ]
    },
    {
     "data": {
      "text/plain": [
       "True"
      ]
     },
     "execution_count": 93,
     "metadata": {},
     "output_type": "execute_result"
    }
   ],
   "source": [
    "# 方案2: 使用标准库中 collections.namedtuple 替代内置 tuple\n",
    "from collections import namedtuple\n",
    "\n",
    "Student = namedtuple('Student', ['name', 'age', 'sex', 'email'])\n",
    "s = Student('Jim', 16, 'male', 'jim8721@gmail.com')\n",
    "print(s)\n",
    "# 使用关键字传参\n",
    "s2 = Student(name='Jim2', age=16, sex='male', email='jim8721@gmail.com')\n",
    "print(s2)\n",
    "# 直接使用属性(类对象的形式)访问元组，不需要使用索引\n",
    "print(s.name)\n",
    "# 判断s 是哪只元组的子类\n",
    "isinstance(s, tuple) "
   ]
  },
  {
   "cell_type": "markdown",
   "metadata": {
    "collapsed": true
   },
   "source": [
    "## 3.如何统计序列中元素的出现频度？\n",
    "### 实际案例\n",
    "\n",
    "1. 某个随机序列[12, 5, 6, 4, 6, 5, 5, 7, ...]中，找到出现次数最高的3个元素，它们出现次数是多少？\n",
    "\n",
    "2. 对某英文文章的单词，进行词频统计，找到出现次数最高的10个单词，它们出现次数是多少？"
   ]
  },
  {
   "cell_type": "code",
   "execution_count": 98,
   "metadata": {},
   "outputs": [
    {
     "name": "stdout",
     "output_type": "stream",
     "text": [
      "[16, 17, 8, 20, 9, 4, 5, 4, 8, 8, 9, 1, 5, 11, 18, 20, 17, 7, 19, 0, 3, 2, 6, 20, 4, 5, 6, 9, 8, 17]\n",
      "{16: 0, 17: 0, 8: 0, 20: 0, 9: 0, 4: 0, 5: 0, 1: 0, 11: 0, 18: 0, 7: 0, 19: 0, 0: 0, 3: 0, 2: 0, 6: 0}\n",
      "{16: 1, 17: 3, 8: 4, 20: 3, 9: 3, 4: 3, 5: 3, 1: 1, 11: 1, 18: 1, 7: 1, 19: 1, 0: 1, 3: 1, 2: 1, 6: 2}\n"
     ]
    }
   ],
   "source": [
    "from random import randint\n",
    "data = [randint(0, 20) for _ in range(30)]\n",
    "print(data)\n",
    "# 用 data 中每一个元素作为建，0 作为初始值，创建字典\n",
    "c = dict.fromkeys(data, 0)\n",
    "print(c)\n",
    "# 迭代 data 每出现一次在 c 中对应 data 的值进行 + 1 操作\n",
    "for x in data:\n",
    "    c[x] += 1\n",
    "print(c)\n",
    "# 频度出现最高的是3个元素，进行排序\n"
   ]
  },
  {
   "cell_type": "markdown",
   "metadata": {},
   "source": [
    "### 解决方案\n",
    "使用 collections.Counter 对象\n",
    "\n",
    "将序列传入 Counter 的构造器，得到 Counter 对象是元素频度的字典\n",
    "\n",
    "Counter.most_common(n)方法得到的频度最高的 n 个元素的列表"
   ]
  },
  {
   "cell_type": "code",
   "execution_count": 101,
   "metadata": {},
   "outputs": [
    {
     "name": "stdout",
     "output_type": "stream",
     "text": [
      "Counter({8: 4, 17: 3, 20: 3, 9: 3, 4: 3, 5: 3, 6: 2, 16: 1, 1: 1, 11: 1, 18: 1, 7: 1, 19: 1, 0: 1, 3: 1, 2: 1})\n",
      "[(8, 4), (17, 3), (20, 3)]\n"
     ]
    }
   ],
   "source": [
    "from collections import Counter\n",
    "c2 = Counter(data)\n",
    "print (c2)\n",
    "print (c2.most_common(3))"
   ]
  },
  {
   "cell_type": "code",
   "execution_count": 112,
   "metadata": {},
   "outputs": [
    {
     "data": {
      "text/plain": [
       "[('you', 53),\n",
       " ('to', 48),\n",
       " ('a', 48),\n",
       " ('the', 47),\n",
       " ('React', 38),\n",
       " ('of', 37),\n",
       " ('and', 32),\n",
       " ('it', 26),\n",
       " ('in', 22),\n",
       " ('that', 21)]"
      ]
     },
     "execution_count": 112,
     "metadata": {},
     "output_type": "execute_result"
    }
   ],
   "source": [
    "# 2. 对某英文文章的单词，进行词频统计，找到出现次数最高的10个单词，它们出现次数是多少？\n",
    "import re\n",
    "txt = open('react-howto.txt').read()\n",
    "# print(txt)\n",
    "# 词频做统计，首先要分隔，正则表达式分隔模块，使用非字母来作为分隔\n",
    "# re.split('\\W+', txt)\n",
    "# 得到一个列表，把这个列表传递给 Counter\n",
    "c3 = Counter(re.split('\\W+', txt))\n",
    "c3.most_common(10)"
   ]
  },
  {
   "cell_type": "markdown",
   "metadata": {},
   "source": [
    "## 4.如何根据字典中值的大小，对字典中的项排序\n",
    "\n",
    "### 实际案例\n",
    "某班英语成绩以字典形式存储为：{'LiLei}: 79, 'Jim': 88, 'Lucy': 92, ...}\n",
    "\n",
    "根据成绩高低，计算学生排名\n",
    "\n",
    "### 解决方案\n",
    "使用内置函数 sorted\n",
    "\n",
    "1. 利用 zip 将字典数据转化为 元组\n",
    "2. 传递 sorted 函数的 key 参数"
   ]
  },
  {
   "cell_type": "code",
   "execution_count": 2,
   "metadata": {},
   "outputs": [
    {
     "data": {
      "text/plain": [
       "[1, 2, 5, 8, 9]"
      ]
     },
     "execution_count": 2,
     "metadata": {},
     "output_type": "execute_result"
    }
   ],
   "source": [
    "# 经常使用 sorted 对 list 进行排序\n",
    "sorted([9, 1, 2, 8, 5])"
   ]
  },
  {
   "cell_type": "code",
   "execution_count": 3,
   "metadata": {},
   "outputs": [
    {
     "data": {
      "text/plain": [
       "{'a': 79, 'b': 65, 'c': 73, 'x': 88, 'y': 82, 'z': 78}"
      ]
     },
     "execution_count": 3,
     "metadata": {},
     "output_type": "execute_result"
    }
   ],
   "source": [
    "from random import randint\n",
    "{x: randint(60, 100) for x in 'xyzabc'}\n"
   ]
  },
  {
   "cell_type": "code",
   "execution_count": 6,
   "metadata": {},
   "outputs": [
    {
     "data": {
      "text/plain": [
       "['a', 'b', 'c', 'x', 'y', 'z']"
      ]
     },
     "execution_count": 6,
     "metadata": {},
     "output_type": "execute_result"
    }
   ],
   "source": [
    "d = {x: randint(60, 100) for x in 'xyzabc'}\n",
    "sorted(d)  # 按照键来排序\n",
    "\n",
    "# sorted 传入的是可迭代对象，对于字典的可迭代对象就是 key"
   ]
  },
  {
   "cell_type": "code",
   "execution_count": 7,
   "metadata": {},
   "outputs": [
    {
     "data": {
      "text/plain": [
       "<dict_keyiterator at 0x101ea2bd8>"
      ]
     },
     "execution_count": 7,
     "metadata": {},
     "output_type": "execute_result"
    }
   ],
   "source": [
    "iter(d)"
   ]
  },
  {
   "cell_type": "code",
   "execution_count": 8,
   "metadata": {},
   "outputs": [
    {
     "data": {
      "text/plain": [
       "['x', 'y', 'z', 'a', 'b', 'c']"
      ]
     },
     "execution_count": 8,
     "metadata": {},
     "output_type": "execute_result"
    }
   ],
   "source": [
    "list(iter(d))  # 实际上是对 key 进行了排序"
   ]
  },
  {
   "cell_type": "code",
   "execution_count": 9,
   "metadata": {},
   "outputs": [
    {
     "data": {
      "text/plain": [
       "True"
      ]
     },
     "execution_count": 9,
     "metadata": {},
     "output_type": "execute_result"
    }
   ],
   "source": [
    "# 对字典进行某种转换，变成 sorted 可以排序的结构\n",
    "# 字典的每一项都是 key 和 value，我们是否可以用元组\n",
    "(79, 'a') > (65, 'b')  # 元组的比较，先比较第一个元素，相等在比较下一个元素"
   ]
  },
  {
   "cell_type": "code",
   "execution_count": 10,
   "metadata": {},
   "outputs": [
    {
     "data": {
      "text/plain": [
       "False"
      ]
     },
     "execution_count": 10,
     "metadata": {},
     "output_type": "execute_result"
    }
   ],
   "source": [
    "(79, 'a') > (79, 'b')"
   ]
  },
  {
   "cell_type": "code",
   "execution_count": 13,
   "metadata": {},
   "outputs": [
    {
     "data": {
      "text/plain": [
       "dict_keys(['x', 'y', 'z', 'a', 'b', 'c'])"
      ]
     },
     "execution_count": 13,
     "metadata": {},
     "output_type": "execute_result"
    }
   ],
   "source": [
    "# 思路把字典变成 上面形式的 元组的列表\n",
    "# 利用 zip 将字典数据转化成元组\n",
    "\n",
    "d.keys()"
   ]
  },
  {
   "cell_type": "code",
   "execution_count": 14,
   "metadata": {},
   "outputs": [
    {
     "data": {
      "text/plain": [
       "dict_values([72, 77, 82, 91, 93, 97])"
      ]
     },
     "execution_count": 14,
     "metadata": {},
     "output_type": "execute_result"
    }
   ],
   "source": [
    "d.values()"
   ]
  },
  {
   "cell_type": "code",
   "execution_count": 20,
   "metadata": {},
   "outputs": [
    {
     "data": {
      "text/plain": [
       "<zip at 0x1030a0388>"
      ]
     },
     "execution_count": 20,
     "metadata": {},
     "output_type": "execute_result"
    }
   ],
   "source": [
    "zip(d.values(), d.keys())"
   ]
  },
  {
   "cell_type": "code",
   "execution_count": 21,
   "metadata": {},
   "outputs": [
    {
     "data": {
      "text/plain": [
       "[(72, 'x'), (77, 'y'), (82, 'z'), (91, 'a'), (93, 'b'), (97, 'c')]"
      ]
     },
     "execution_count": 21,
     "metadata": {},
     "output_type": "execute_result"
    }
   ],
   "source": [
    "sorted(zip(d.values(), d.keys()))"
   ]
  },
  {
   "cell_type": "code",
   "execution_count": 22,
   "metadata": {},
   "outputs": [
    {
     "data": {
      "text/plain": [
       "dict_items([('x', 72), ('y', 77), ('z', 82), ('a', 91), ('b', 93), ('c', 97)])"
      ]
     },
     "execution_count": 22,
     "metadata": {},
     "output_type": "execute_result"
    }
   ],
   "source": [
    "# 传递 sorted 函数的 key 参数\n",
    "d.items()"
   ]
  },
  {
   "cell_type": "code",
   "execution_count": 23,
   "metadata": {},
   "outputs": [
    {
     "data": {
      "text/plain": [
       "[('x', 72), ('y', 77), ('z', 82), ('a', 91), ('b', 93), ('c', 97)]"
      ]
     },
     "execution_count": 23,
     "metadata": {},
     "output_type": "execute_result"
    }
   ],
   "source": [
    "sorted(d.items(), key=lambda x: x[1])"
   ]
  },
  {
   "cell_type": "code",
   "execution_count": null,
   "metadata": {
    "collapsed": true
   },
   "outputs": [],
   "source": []
  },
  {
   "cell_type": "code",
   "execution_count": null,
   "metadata": {
    "collapsed": true
   },
   "outputs": [],
   "source": []
  },
  {
   "cell_type": "code",
   "execution_count": null,
   "metadata": {
    "collapsed": true
   },
   "outputs": [],
   "source": []
  },
  {
   "cell_type": "code",
   "execution_count": null,
   "metadata": {
    "collapsed": true
   },
   "outputs": [],
   "source": []
  }
 ],
 "metadata": {
  "kernelspec": {
   "display_name": "Python 3",
   "language": "python",
   "name": "python3"
  },
  "language_info": {
   "codemirror_mode": {
    "name": "ipython",
    "version": 3
   },
   "file_extension": ".py",
   "mimetype": "text/x-python",
   "name": "python",
   "nbconvert_exporter": "python",
   "pygments_lexer": "ipython3",
   "version": "3.6.1"
  }
 },
 "nbformat": 4,
 "nbformat_minor": 2
}
