{
 "cells": [
  {
   "cell_type": "markdown",
   "metadata": {},
   "source": [
    "### 2-1 选择排序法 - Selection Sort"
   ]
  },
  {
   "cell_type": "code",
   "execution_count": 1,
   "metadata": {
    "collapsed": true
   },
   "outputs": [],
   "source": [
    "# -*- coding: utf-8 -*-\n",
    "def selectionSort(arr):\n",
    "    for i in range(len(arr)): # for 循环从 i = 0 到 i < n = len(arr) 为止\n",
    "        # 每次循环中要做的是：寻找当前的 [i, n) 区间里的最小值 - 假定把数组从小到大进行排序\n",
    "        minIndex = i # 当前找到的最小值它所处的索引的位置，初始化在 i 的位置\n",
    "        for j in range(i+1, len(arr)): # 再进行一次循环从 i + 1 开始 到 i < len(arr) 为止\n",
    "            # 每次来比较当前 arr[j] 是否小于当前已经找到的 最小值 arr[minIndex]\n",
    "            if arr[j] < arr[minIndex]:\n",
    "                # 如果小于就要更新一下当前的最小值的索引\n",
    "                minIndex = j\n",
    "            \n",
    "        # 这样就找到了 [i, n) 这个区间里的最小值，并把这个值的索引存到了 minIndex 中，现在要进行位置交换\n",
    "        arr[i], arr[minIndex] = arr[minIndex], arr[i]\n",
    "\n",
    "    return arr     "
   ]
  },
  {
   "cell_type": "code",
   "execution_count": 14,
   "metadata": {},
   "outputs": [],
   "source": [
    "# 进行测试写的选择排序函数\n",
    "from random import randint\n",
    "\n",
    "max=5000\n",
    "list=[randint(0,max) for x in range(max)]\n",
    "#使用切片可以真正将一份list复制给其他变量，如果不用切片，即alist=list，只是指针而已。\n",
    "selectionSort_arr = list[:]\n",
    "insertionSort_arr = list[:]\n",
    "insertionSortOptimization_arr = list[:]\n",
    "# print(arr) # 未排序的数组\n",
    "\n",
    "# print(selectionSort(arr)) # 选择排序之后的结果"
   ]
  },
  {
   "cell_type": "code",
   "execution_count": 7,
   "metadata": {},
   "outputs": [
    {
     "name": "stdout",
     "output_type": "stream",
     "text": [
      "选择排序: 0.7942973699973663 s\n"
     ]
    }
   ],
   "source": [
    "# 测试时间\n",
    "import timeit\n",
    "\n",
    "t2=timeit.Timer('selectionSort(selectionSort_arr)','from __main__ import selectionSort,selectionSort_arr')\n",
    "print('选择排序: %s s' %t2.timeit(number=1))\n",
    "\n",
    "# O(n^2) 时间复杂度"
   ]
  },
  {
   "cell_type": "markdown",
   "metadata": {},
   "source": [
    "### 2-5 插入排序法 - Insertion Sort"
   ]
  },
  {
   "cell_type": "code",
   "execution_count": 8,
   "metadata": {
    "collapsed": true
   },
   "outputs": [],
   "source": [
    "def insertionSort(arr):\n",
    "    for i in range(1, len(arr)): # 从 i = 1 开始，对插入排序来说第0个元素不用考虑，排序的初始第0个元素放在那里本身就是有序的，不需要把它插入到前面的位置\n",
    "        # 寻找元素arr[i] 合适的插入位置\n",
    "        for j in range(i, 0, -1):\n",
    "            if arr[j] < arr[j-1]:\n",
    "                arr[j], arr[j-1] = arr[j-1], arr[j]\n",
    "            else:\n",
    "                break # 比选择排序多了提前终止的机会，所以理论上插入排序要比选择排序快一些\n",
    "    \n",
    "    return arr              \n",
    "        "
   ]
  },
  {
   "cell_type": "code",
   "execution_count": 9,
   "metadata": {},
   "outputs": [
    {
     "name": "stdout",
     "output_type": "stream",
     "text": [
      "插入排序: 1.4080054299993208 s\n"
     ]
    }
   ],
   "source": [
    "# 测试时间\n",
    "import timeit\n",
    "\n",
    "t2=timeit.Timer('insertionSort(insertionSort_arr)','from __main__ import insertionSort,insertionSort_arr')\n",
    "print('插入排序: %s s' %t2.timeit(number=1))\n",
    "\n",
    "# O(n^2) 时间复杂度"
   ]
  },
  {
   "cell_type": "markdown",
   "metadata": {},
   "source": [
    "### 2-6 插入排序的改进\n",
    "\n",
    "**总结：** 插入排序是可以在第二层循环提前结束的，但是实际上看插入排序的性能比选择排序还要差\n",
    "\n",
    "**为什么？** 这个插入排序的版本在遍历的同时也在不停的交换\n",
    "\n",
    "**改进：** 让插入排序在内层的循环中只交换一次"
   ]
  },
  {
   "cell_type": "code",
   "execution_count": 10,
   "metadata": {
    "collapsed": true
   },
   "outputs": [],
   "source": [
    "def insertionSortOptimization(arr):\n",
    "    for i in range(1, len(arr)): # 对内层循环进行改写\n",
    "        copy = arr[i] # arr[i] 位置的元素存放在新的变量中，即 副本\n",
    "        index = i # 即 arr[i]的元素应该插入的位置 对于之前 j 的声明放在内层循环的外面，因为最后的交换赋值操作是需要它的\n",
    "        while index > 0 and arr[index-1]> copy:\n",
    "            arr[index] = arr[index-1]\n",
    "            index -= 1\n",
    "        arr[index]=copy\n",
    "\n",
    "    return arr\n",
    "        "
   ]
  },
  {
   "cell_type": "code",
   "execution_count": 15,
   "metadata": {},
   "outputs": [
    {
     "name": "stdout",
     "output_type": "stream",
     "text": [
      "插入排序的改进: 1.1895564869992086 s\n"
     ]
    }
   ],
   "source": [
    "# 测试时间\n",
    "import timeit\n",
    "\n",
    "t2=timeit.Timer('insertionSortOptimization(insertionSortOptimization_arr)','from __main__ import insertionSortOptimization,insertionSortOptimization_arr')\n",
    "print('插入排序的改进: %s s' %t2.timeit(number=1))\n",
    "\n",
    "# 对近乎有序的数组，插入排序的性能要远远优与选择排序 - \n",
    "# 插入排序有非常重要的实际意义的，如果处理真实的数据就是近乎有序的，那么插入排序比O(nlgn)还要快"
   ]
  },
  {
   "cell_type": "markdown",
   "metadata": {},
   "source": [
    "### 总结\n",
    "\n",
    "选择排序 缺点：对于任何一个数组，两层循环，每一层循环都必须完全的执行完成\n",
    "\n",
    "插入排序 优点：在近乎有序的数组中，插入排序性能非常的高-有着非常重要的实际意义\n",
    "\n",
    "冒泡排序 Bubble Sort\n",
    "\n",
    "希尔排序 Shell Sort"
   ]
  },
  {
   "cell_type": "code",
   "execution_count": null,
   "metadata": {
    "collapsed": true
   },
   "outputs": [],
   "source": []
  },
  {
   "cell_type": "code",
   "execution_count": null,
   "metadata": {
    "collapsed": true
   },
   "outputs": [],
   "source": []
  },
  {
   "cell_type": "code",
   "execution_count": null,
   "metadata": {
    "collapsed": true
   },
   "outputs": [],
   "source": []
  },
  {
   "cell_type": "code",
   "execution_count": null,
   "metadata": {
    "collapsed": true
   },
   "outputs": [],
   "source": []
  },
  {
   "cell_type": "code",
   "execution_count": null,
   "metadata": {
    "collapsed": true
   },
   "outputs": [],
   "source": []
  },
  {
   "cell_type": "code",
   "execution_count": null,
   "metadata": {
    "collapsed": true
   },
   "outputs": [],
   "source": []
  },
  {
   "cell_type": "code",
   "execution_count": null,
   "metadata": {
    "collapsed": true
   },
   "outputs": [],
   "source": []
  },
  {
   "cell_type": "code",
   "execution_count": null,
   "metadata": {
    "collapsed": true
   },
   "outputs": [],
   "source": []
  },
  {
   "cell_type": "code",
   "execution_count": null,
   "metadata": {
    "collapsed": true
   },
   "outputs": [],
   "source": []
  },
  {
   "cell_type": "code",
   "execution_count": null,
   "metadata": {
    "collapsed": true
   },
   "outputs": [],
   "source": []
  }
 ],
 "metadata": {
  "kernelspec": {
   "display_name": "Python 3",
   "language": "python",
   "name": "python3"
  },
  "language_info": {
   "codemirror_mode": {
    "name": "ipython",
    "version": 3
   },
   "file_extension": ".py",
   "mimetype": "text/x-python",
   "name": "python",
   "nbconvert_exporter": "python",
   "pygments_lexer": "ipython3",
   "version": "3.6.1"
  }
 },
 "nbformat": 4,
 "nbformat_minor": 2
}
